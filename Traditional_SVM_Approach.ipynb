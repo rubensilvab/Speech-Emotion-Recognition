{
  "cells": [
    {
      "cell_type": "code",
      "execution_count": null,
      "metadata": {
        "colab": {
          "base_uri": "https://localhost:8080/"
        },
        "id": "0loNCraGavFK",
        "outputId": "ceb3539a-e86a-4604-a7cb-1cf001ac4246"
      },
      "outputs": [
        {
          "output_type": "stream",
          "name": "stdout",
          "text": [
            "Mounted at /content/drive\n"
          ]
        }
      ],
      "source": [
        "from google.colab import drive\n",
        "drive.mount('/content/drive') #this works to conect the drive to the script itself being then able to acess files such as the data.zip"
      ]
    },
    {
      "cell_type": "code",
      "execution_count": null,
      "metadata": {
        "colab": {
          "base_uri": "https://localhost:8080/"
        },
        "id": "m4fnRyq-bG13",
        "outputId": "997b392d-8b74-4bad-c481-870ada177409"
      },
      "outputs": [
        {
          "output_type": "stream",
          "name": "stdout",
          "text": [
            "              0         1         2  ...       171       172     labels\n",
            "0     -0.017110 -0.013606 -0.019834  ... -1.857551 -1.852664  surprised\n",
            "1     -0.028183 -0.012709  0.017063  ... -8.222637 -7.808563       fear\n",
            "2     -0.041308  0.034605  0.050918  ... -7.446040 -5.487325       calm\n",
            "3     -0.056769  0.024256  0.057170  ... -7.833958 -6.122277    neutral\n",
            "4      0.012351 -0.009679 -0.078754  ... -6.650182 -5.679175      happy\n",
            "...         ...       ...       ...  ...       ...       ...        ...\n",
            "12157 -0.007879  0.027866 -0.015370  ...  0.116544  6.037195    disgust\n",
            "12158 -0.005548 -0.006217  0.008452  ... -1.775892 -1.137908        sad\n",
            "12159 -0.006007  0.013230 -0.036165  ... -3.349862 -3.459580      angry\n",
            "12160  0.014099  0.009986 -0.056546  ...  2.672708  4.628762    disgust\n",
            "12161 -0.028532  0.006661  0.030099  ... -3.585440 -4.979897  surprised\n",
            "\n",
            "[12162 rows x 174 columns]\n"
          ]
        }
      ],
      "source": [
        "import matplotlib.pyplot as plt\n",
        "import numpy as np\n",
        "import librosa.display\n",
        "import seaborn as sns\n",
        "import tensorflow as tf\n",
        "from sklearn.neural_network import MLPClassifier #for MLP classifier\n",
        "import keras\n",
        "from keras.callbacks import ReduceLROnPlateau\n",
        "from keras.models import Sequential\n",
        "from keras.layers import * #for CNN and LSTM, * means import everything\n",
        "from tensorflow.keras.optimizers import SGD\n",
        "\n",
        "from keras.utils import np_utils\n",
        "from keras.callbacks import ModelCheckpoint\n",
        "import pandas as pd\n",
        "import io\n",
        "from sklearn.preprocessing import StandardScaler, OneHotEncoder\n",
        "from sklearn.metrics import confusion_matrix, classification_report\n",
        "from sklearn.model_selection import train_test_split\n",
        "from sklearn.linear_model import LogisticRegression\n",
        "from sklearn.svm import SVC\n",
        "\n",
        "# Read the database of containing the features for each sample\n",
        "df = pd.read_csv('/content/drive/MyDrive/DACO_2021_2022/featuresV2.csv')\n",
        "\n",
        "print(df)"
      ]
    },
    {
      "cell_type": "markdown",
      "source": [
        "Normalize data with StandardScaler()"
      ],
      "metadata": {
        "id": "0GYIeUlWSQzQ"
      }
    },
    {
      "cell_type": "code",
      "execution_count": null,
      "metadata": {
        "id": "T9gvNToNb9O5"
      },
      "outputs": [],
      "source": [
        "Y = df.labels\n",
        "size =  df.shape[1]-1\n",
        "X = df.iloc[:, 0:size]\n",
        "X = StandardScaler().fit_transform(X)"
      ]
    },
    {
      "cell_type": "markdown",
      "source": [
        "**Figure the best SVM model **"
      ],
      "metadata": {
        "id": "62PVm9UFCv-U"
      }
    },
    {
      "cell_type": "markdown",
      "source": [
        "Split the Dataset (60% for training and 40% for validation)"
      ],
      "metadata": {
        "id": "ShGWNJBgAoFZ"
      }
    },
    {
      "cell_type": "code",
      "execution_count": null,
      "metadata": {
        "colab": {
          "base_uri": "https://localhost:8080/"
        },
        "id": "Oy2Z6tODNkHl",
        "outputId": "03ffcca9-d4a4-44c5-f845-725ae65981b0"
      },
      "outputs": [
        {
          "output_type": "stream",
          "name": "stdout",
          "text": [
            "(7297, 173)\n",
            "(7297,)\n",
            "(4865, 173)\n",
            "(4865,)\n"
          ]
        }
      ],
      "source": [
        "X_train, X_valid, y_train, y_valid = train_test_split(X,Y , train_size=0.6, shuffle = True, random_state = 10)\n",
        "\n",
        "\n",
        "print(X_train.shape) \n",
        "print(y_train.shape)\n",
        "print(X_valid.shape) \n",
        "print(y_valid.shape)\n"
      ]
    },
    {
      "cell_type": "markdown",
      "source": [
        "We test *Principal Analysis Components*(PCA) as a pré-processing method for \n",
        "reduction of the dimensionality"
      ],
      "metadata": {
        "id": "gHli3tmkAjBb"
      }
    },
    {
      "cell_type": "code",
      "execution_count": null,
      "metadata": {
        "id": "AUu_FBChaPWa",
        "colab": {
          "base_uri": "https://localhost:8080/"
        },
        "outputId": "f7a7552b-c672-4622-9cf9-b2e9b9bcd596"
      },
      "outputs": [
        {
          "output_type": "execute_result",
          "data": {
            "text/plain": [
              "PCA(n_components=0.95)"
            ]
          },
          "metadata": {},
          "execution_count": 5
        }
      ],
      "source": [
        "from sklearn.decomposition import PCA\n",
        "# Make an instance of the Model\n",
        "pca = PCA(.95) #It means that scikit-learn choose the minimum number of principal components such that 95% of the variance is retained.\n",
        "\n",
        "pca.fit(X_train)"
      ]
    },
    {
      "cell_type": "code",
      "source": [
        "x_train_pca = pca.transform(X_train)\n",
        "x_valid_pca = pca.transform(X_valid)"
      ],
      "metadata": {
        "id": "FMgcbKHf4kci"
      },
      "execution_count": null,
      "outputs": []
    },
    {
      "cell_type": "markdown",
      "source": [
        "SVM poly kernel with and without PCA"
      ],
      "metadata": {
        "id": "38xE-90hrEZO"
      }
    },
    {
      "cell_type": "code",
      "execution_count": null,
      "metadata": {
        "id": "o0-J_qZgQlbl"
      },
      "outputs": [],
      "source": [
        "#Parameters tested in the loop using the validation dataset for \"testing\" and figure the best parameters\n",
        "\n",
        "poly_degree = [1,2,3,4,5] \n",
        "C_1 = [4 ,7, 8, 9 , 10 , 15 , 20 ,25, 30, 100]\n",
        "\n",
        "parameters_svm = {} #dict to save parameters info and scores\n",
        "parameters_svm_pca = {} #dict to save parameters info and scores\n",
        "\n",
        "for Degree in poly_degree: # loop for testing each value for each parameter\n",
        "    for c in C_1:\n",
        "        svm_model = SVC(kernel='poly',  degree= Degree, C = c )\n",
        "        svm_model_pca = SVC(kernel='poly',  degree= Degree, C = c )\n",
        "\n",
        "        svm_model.fit(X_train, y_train)\n",
        "        svm_model_pca.fit(x_train_pca, y_train)\n",
        "        \n",
        "        score = svm_model.score(X_valid, y_valid) \n",
        "        score_pca= svm_model_pca.score(x_valid_pca, y_valid)\n",
        "\n",
        "        parameters_svm.update( {(Degree, c): score})\n",
        "        parameters_svm_pca.update( {(Degree, c): score_pca})\n"
      ]
    },
    {
      "cell_type": "code",
      "source": [
        "best_parameters = max(parameters_svm, key=parameters_svm.get)\n",
        "degree_opt = best_parameters[0]\n",
        "c_opt = best_parameters[1]\n",
        "print('Best parameters for degree = {} and C = {} and score {} '.format(degree_opt, c_opt,parameters_svm[degree_opt,c_opt]))\n"
      ],
      "metadata": {
        "colab": {
          "base_uri": "https://localhost:8080/"
        },
        "id": "NyhF0SBOtGPO",
        "outputId": "3394ba9e-59f6-4e1e-fc84-27ff7f29ccd7"
      },
      "execution_count": null,
      "outputs": [
        {
          "output_type": "stream",
          "name": "stdout",
          "text": [
            "Best parameters for degree = 3 and C = 100 and score 0.6073997944501541 \n"
          ]
        }
      ]
    },
    {
      "cell_type": "code",
      "source": [
        "best_parameters_pca = max(parameters_svm_pca, key=parameters_svm_pca.get)\n",
        "degree_opt = best_parameters_pca[0]\n",
        "c_opt = best_parameters_pca[1]\n",
        "print('Best parameters for degree = {} and C = {} and score with PCA {} '.format(degree_opt, c_opt,parameters_svm_pca[degree_opt,c_opt]))"
      ],
      "metadata": {
        "colab": {
          "base_uri": "https://localhost:8080/"
        },
        "id": "_EQGdPfd3Ey1",
        "outputId": "0d764336-408a-4452-9367-d23f38602224"
      },
      "execution_count": null,
      "outputs": [
        {
          "output_type": "stream",
          "name": "stdout",
          "text": [
            "Best parameters for degree = 3 and C = 100 and score with PCA 0.5971223021582733 \n"
          ]
        }
      ]
    },
    {
      "cell_type": "markdown",
      "source": [
        "SVM kernel RBF(default) with and without PCA "
      ],
      "metadata": {
        "id": "rbtUgfj21UZs"
      }
    },
    {
      "cell_type": "code",
      "source": [
        "C_1 = [4 ,7, 8, 9 , 10 , 15 , 20 ,25, 30, 100] # parameters to test for each iteration\n",
        "parameters_svm = {} #dict to save parameters info and scores\n",
        "parameters_svm_pca = {}\n",
        "\n",
        "for c in C_1:\n",
        "    svm_model = SVC( C = c ) #Regularization parameter. The strength of the regularization is inversely proportional to C. Must be strictly positive. The penalty is a squared l2 penalty.\n",
        "    svm_model_pca = SVC( C = c )\n",
        "\n",
        "    svm_model.fit(X_train, y_train)\n",
        "    svm_model_pca.fit(x_train_pca, y_train)\n",
        "\n",
        "    score = svm_model.score(X_valid, y_valid) #using the validation dataset for \"testing\" and figure the best parameters\n",
        "    score_pca=svm_model_pca.score(x_valid_pca,y_valid)\n",
        "    \n",
        "    parameters_svm.update({c: score})\n",
        "    parameters_svm_pca.update({c: score_pca})\n"
      ],
      "metadata": {
        "id": "eKlgaWBwu4ON"
      },
      "execution_count": null,
      "outputs": []
    },
    {
      "cell_type": "code",
      "source": [
        "best_parameters = max(parameters_svm, key=parameters_svm.get)\n",
        "\n",
        "print('Best parameters for C = {} and score = {} '.format(best_parameters,parameters_svm[best_parameters]))\n"
      ],
      "metadata": {
        "colab": {
          "base_uri": "https://localhost:8080/"
        },
        "id": "V34LVph0yADv",
        "outputId": "f9d4cf33-ea8d-46df-d1d1-c0a5cfbfd003"
      },
      "execution_count": null,
      "outputs": [
        {
          "output_type": "stream",
          "name": "stdout",
          "text": [
            "Best parameters for C = 30 and score = 0.6357656731757452 \n"
          ]
        }
      ]
    },
    {
      "cell_type": "code",
      "source": [
        "best_parameters_pca = max(parameters_svm_pca, key=parameters_svm_pca.get)\n",
        "\n",
        "print('Best parameters for C = {} and score = {} com PCA'.format(best_parameters_pca,parameters_svm_pca[best_parameters_pca]))\n"
      ],
      "metadata": {
        "colab": {
          "base_uri": "https://localhost:8080/"
        },
        "id": "A1S4mnNt4Pxr",
        "outputId": "ae76cc68-865d-483e-9ee6-87f4785bceea"
      },
      "execution_count": null,
      "outputs": [
        {
          "output_type": "stream",
          "name": "stdout",
          "text": [
            "Best parameters for C = 15 and score = 0.6261048304213772 com PCA\n"
          ]
        }
      ]
    },
    {
      "cell_type": "markdown",
      "source": [
        "WE FOUND THE BEST MODEL (SVM WITH RBF KERNEL C=30 , WITHOUT PCA)"
      ],
      "metadata": {
        "id": "DBowHJmBSZiF"
      }
    },
    {
      "cell_type": "markdown",
      "source": [
        "NOW concatenate the training set and validation set , to train each fold in K-stratified validation"
      ],
      "metadata": {
        "id": "c5HweD2N0Bi8"
      }
    },
    {
      "cell_type": "code",
      "source": [
        "\n",
        "svm_model = SVC( C = best_parameters)\n",
        "x_final=np.concatenate((X_train,X_valid),axis=0)\n",
        "y_final=np.concatenate((y_train,y_valid),axis=0)\n"
      ],
      "metadata": {
        "id": "IU_uaWtpQukG"
      },
      "execution_count": null,
      "outputs": []
    },
    {
      "cell_type": "markdown",
      "source": [
        "**MODEL ASSESSMENT** --\n",
        "Stratified - cross validation --This cross-validation object is a variation of KFold that returns stratified folds. The folds are made by preserving the percentage of samples for each class."
      ],
      "metadata": {
        "id": "dDEWzg-bh5tX"
      }
    },
    {
      "cell_type": "code",
      "source": [
        "from sklearn.model_selection import StratifiedKFold\n",
        "scores_stratified = [] # list to append the scores of each of the 5 folds\n",
        "\n",
        "report_metrics=[]# list to append each classification report of each fold\n",
        "\n",
        "skf =StratifiedKFold(n_splits=5) #we choose 5 folds\n",
        "\n",
        "for train_index, test_index in skf.split(x_final,y_final):\n",
        "    #print(\"Train Index: \", train_index, \"\\n\")\n",
        "    #print(\"Test Index: \", test_index)\n",
        "    \n",
        "    X_train_cv, X_test_cv, y_train_cv, y_test_cv = x_final[train_index], x_final[test_index], y_final[train_index], y_final[test_index]\n",
        "    svm_model.fit(X_train_cv, y_train_cv)\n",
        "    \n",
        "    scores_stratified.append(svm_model.score(X_test_cv, y_test_cv))\n",
        "    y_pred=svm_model.predict(X_test_cv)\n",
        "    report=classification_report(y_test_cv, y_pred,output_dict=True)\n",
        "    df=pd.DataFrame(report).transpose()\n",
        "    report_metrics.append(df)\n"
      ],
      "metadata": {
        "id": "_C1-gohSh-6T"
      },
      "execution_count": null,
      "outputs": []
    },
    {
      "cell_type": "code",
      "source": [
        "print('With stratified validation we get a score of {} (+/-) {} '.format(np.mean(scores_stratified),np.std(scores_stratified)))"
      ],
      "metadata": {
        "colab": {
          "base_uri": "https://localhost:8080/"
        },
        "id": "FS_xd667jIcy",
        "outputId": "ff461774-3dbf-4ee0-8a6d-0f073c72585e"
      },
      "execution_count": null,
      "outputs": [
        {
          "output_type": "stream",
          "name": "stdout",
          "text": [
            "With stratified validation we get a score of 0.6530184605317239 (+/-) 0.006169823843020579 \n"
          ]
        }
      ]
    },
    {
      "cell_type": "code",
      "source": [
        "report_metrics\n",
        "kFoldResults_SVM = pd.concat([report_metrics[0], report_metrics[1], report_metrics[2], report_metrics[3], report_metrics[4]])\n",
        "kFoldResults_SVM.to_csv('5kFoldResults_SVM_sem_augmentation.csv', index=True)"
      ],
      "metadata": {
        "id": "I3PKQelc8k66"
      },
      "execution_count": null,
      "outputs": []
    }
  ],
  "metadata": {
    "accelerator": "GPU",
    "colab": {
      "name": "Training_para_enviar.ipynb",
      "provenance": [],
      "collapsed_sections": []
    },
    "kernelspec": {
      "display_name": "Python 3",
      "name": "python3"
    },
    "language_info": {
      "name": "python"
    }
  },
  "nbformat": 4,
  "nbformat_minor": 0
}